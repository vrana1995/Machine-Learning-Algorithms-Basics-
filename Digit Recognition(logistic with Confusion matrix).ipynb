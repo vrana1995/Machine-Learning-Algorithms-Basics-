{
 "cells": [
  {
   "cell_type": "markdown",
   "id": "309109f8",
   "metadata": {},
   "source": [
    "# Digit Recognition logistic regression"
   ]
  },
  {
   "cell_type": "code",
   "execution_count": 1,
   "id": "b8e1052a",
   "metadata": {},
   "outputs": [],
   "source": [
    "import pandas as pd\n",
    "import matplotlib.pyplot as plt\n",
    "%matplotlib inline"
   ]
  },
  {
   "cell_type": "code",
   "execution_count": 3,
   "id": "cba504ef",
   "metadata": {},
   "outputs": [],
   "source": [
    "from sklearn.datasets import load_digits"
   ]
  },
  {
   "cell_type": "code",
   "execution_count": 4,
   "id": "593c54bd",
   "metadata": {},
   "outputs": [],
   "source": [
    "digits = load_digits()"
   ]
  },
  {
   "cell_type": "code",
   "execution_count": 7,
   "id": "5b8c5ad8",
   "metadata": {},
   "outputs": [
    {
     "data": {
      "text/plain": [
       "['DESCR', 'data', 'feature_names', 'frame', 'images', 'target', 'target_names']"
      ]
     },
     "execution_count": 7,
     "metadata": {},
     "output_type": "execute_result"
    }
   ],
   "source": [
    "dir(digits)"
   ]
  },
  {
   "cell_type": "code",
   "execution_count": 8,
   "id": "3ae267b2",
   "metadata": {},
   "outputs": [
    {
     "data": {
      "text/plain": [
       "array([ 0.,  0.,  5., 13.,  9.,  1.,  0.,  0.,  0.,  0., 13., 15., 10.,\n",
       "       15.,  5.,  0.,  0.,  3., 15.,  2.,  0., 11.,  8.,  0.,  0.,  4.,\n",
       "       12.,  0.,  0.,  8.,  8.,  0.,  0.,  5.,  8.,  0.,  0.,  9.,  8.,\n",
       "        0.,  0.,  4., 11.,  0.,  1., 12.,  7.,  0.,  0.,  2., 14.,  5.,\n",
       "       10., 12.,  0.,  0.,  0.,  0.,  6., 13., 10.,  0.,  0.,  0.])"
      ]
     },
     "execution_count": 8,
     "metadata": {},
     "output_type": "execute_result"
    }
   ],
   "source": [
    "digits.data[0]"
   ]
  },
  {
   "cell_type": "code",
   "execution_count": 10,
   "id": "fa35e559",
   "metadata": {},
   "outputs": [
    {
     "data": {
      "text/plain": [
       "<Figure size 432x288 with 0 Axes>"
      ]
     },
     "metadata": {},
     "output_type": "display_data"
    },
    {
     "data": {
      "image/png": "[encoded data removed]",
      "text/plain": [
       "<Figure size 288x288 with 1 Axes>"
      ]
     },
     "metadata": {
      "needs_background": "light"
     },
     "output_type": "display_data"
    },
    {
     "data": {
      "image/png": "[encoded data removed]",
      "text/plain": [
       "<Figure size 288x288 with 1 Axes>"
      ]
     },
     "metadata": {
      "needs_background": "light"
     },
     "output_type": "display_data"
    },
    {
     "data": {
      "image/png": "[encoded data removed]",
      "text/plain": [
       "<Figure size 288x288 with 1 Axes>"
      ]
     },
     "metadata": {
      "needs_background": "light"
     },
     "output_type": "display_data"
    },
    {
     "data": {
      "image/png": "[encoded data removed]",
      "text/plain": [
       "<Figure size 288x288 with 1 Axes>"
      ]
     },
     "metadata": {
      "needs_background": "light"
     },
     "output_type": "display_data"
    },
    {
     "data": {
      "image/png": "[encoded data removed]",
      "text/plain": [
       "<Figure size 288x288 with 1 Axes>"
      ]
     },
     "metadata": {
      "needs_background": "light"
     },
     "output_type": "display_data"
    }
   ],
   "source": [
    "plt.gray()\n",
    "for i in range(5):\n",
    "    plt.matshow(digits.images[i])"
   ]
  },
  {
   "cell_type": "code",
   "execution_count": 11,
   "id": "3a49c3cd",
   "metadata": {},
   "outputs": [
    {
     "data": {
      "text/plain": [
       "array([0, 1, 2, 3, 4])"
      ]
     },
     "execution_count": 11,
     "metadata": {},
     "output_type": "execute_result"
    }
   ],
   "source": [
    "digits.target[0:5]"
   ]
  },
  {
   "cell_type": "code",
   "execution_count": 16,
   "id": "09d3d599",
   "metadata": {},
   "outputs": [],
   "source": [
    "## we will train the model on basis of images and target to predict the value of image.\n",
    "from sklearn.model_selection import train_test_split\n",
    "x_train,x_test,y_train,y_test=train_test_split(digits.data,digits.target,test_size=0.2)"
   ]
  },
  {
   "cell_type": "code",
   "execution_count": 17,
   "id": "a201257a",
   "metadata": {},
   "outputs": [
    {
     "data": {
      "text/plain": [
       "array([[ 0.,  0., 10., ..., 16., 16., 11.],\n",
       "       [ 0.,  0.,  1., ..., 15., 11.,  1.],\n",
       "       [ 0.,  0.,  4., ..., 11.,  1.,  0.],\n",
       "       ...,\n",
       "       [ 0.,  0.,  7., ...,  3.,  0.,  0.],\n",
       "       [ 0.,  1.,  5., ..., 15.,  2.,  0.],\n",
       "       [ 0.,  0., 10., ...,  1.,  0.,  0.]])"
      ]
     },
     "execution_count": 17,
     "metadata": {},
     "output_type": "execute_result"
    }
   ],
   "source": [
    "x_train"
   ]
  },
  {
   "cell_type": "code",
   "execution_count": 18,
   "id": "6c6fa571",
   "metadata": {},
   "outputs": [
    {
     "data": {
      "text/plain": [
       "array([1, 3, 1, 2, 7, 0, 0, 5, 1, 9, 9, 6, 8, 1, 4, 9, 2, 5, 5, 8, 1, 3,\n",
       "       0, 4, 1, 7, 1, 6, 6, 5, 5, 1, 1, 1, 0, 3, 9, 9, 3, 5, 2, 8, 7, 0,\n",
       "       2, 2, 9, 7, 5, 1, 8, 2, 3, 7, 3, 1, 9, 9, 6, 4, 8, 4, 3, 1, 4, 1,\n",
       "       5, 0, 9, 8, 6, 7, 0, 3, 4, 7, 1, 2, 0, 3, 8, 1, 6, 6, 2, 4, 6, 1,\n",
       "       4, 3, 4, 0, 7, 2, 5, 2, 6, 2, 0, 3, 4, 2, 8, 4, 8, 2, 5, 2, 6, 9,\n",
       "       0, 1, 2, 8, 1, 2, 2, 8, 9, 1, 1, 7, 9, 5, 0, 8, 3, 9, 6, 9, 2, 4,\n",
       "       0, 3, 2, 3, 7, 8, 8, 0, 9, 9, 6, 8, 0, 9, 6, 8, 7, 0, 7, 7, 1, 1,\n",
       "       8, 5, 4, 9, 3, 7, 0, 5, 2, 4, 5, 0, 5, 2, 0, 1, 3, 8, 1, 0, 9, 3,\n",
       "       8, 0, 1, 3, 8, 7, 6, 6, 1, 2, 9, 6, 9, 9, 2, 8, 1, 3, 8, 2, 5, 8,\n",
       "       6, 7, 9, 3, 1, 4, 8, 8, 5, 4, 0, 6, 4, 1, 8, 1, 9, 6, 8, 0, 5, 6,\n",
       "       1, 6, 8, 1, 9, 9, 6, 6, 0, 6, 7, 6, 4, 6, 4, 1, 9, 4, 7, 7, 6, 5,\n",
       "       5, 1, 0, 5, 4, 5, 0, 9, 1, 1, 6, 2, 3, 6, 1, 1, 3, 9, 2, 7, 5, 9,\n",
       "       5, 1, 9, 6, 6, 0, 6, 3, 0, 3, 8, 2, 3, 2, 0, 9, 3, 3, 7, 5, 0, 5,\n",
       "       0, 7, 6, 3, 8, 0, 0, 0, 5, 5, 1, 7, 6, 5, 3, 7, 7, 2, 8, 8, 3, 3,\n",
       "       2, 8, 4, 6, 9, 0, 9, 2, 7, 1, 2, 9, 4, 8, 0, 7, 9, 7, 9, 0, 5, 9,\n",
       "       2, 1, 6, 2, 2, 5, 8, 0, 8, 6, 7, 5, 9, 5, 6, 0, 1, 9, 3, 8, 8, 5,\n",
       "       6, 8, 7, 3, 2, 5, 3, 1])"
      ]
     },
     "execution_count": 18,
     "metadata": {},
     "output_type": "execute_result"
    }
   ],
   "source": [
    "y_test"
   ]
  },
  {
   "cell_type": "code",
   "execution_count": 21,
   "id": "ff69bb84",
   "metadata": {},
   "outputs": [],
   "source": [
    "from sklearn.linear_model import LogisticRegression\n",
    "model = LogisticRegression()"
   ]
  },
  {
   "cell_type": "code",
   "execution_count": 22,
   "id": "d4ea060a",
   "metadata": {},
   "outputs": [
    {
     "name": "stderr",
     "output_type": "stream",
     "text": [
      "C:\\Anaconda\\lib\\site-packages\\sklearn\\linear_model\\_logistic.py:763: ConvergenceWarning: lbfgs failed to converge (status=1):\n",
      "STOP: TOTAL NO. of ITERATIONS REACHED LIMIT.\n",
      "\n",
      "Increase the number of iterations (max_iter) or scale the data as shown in:\n",
      "    https://scikit-learn.org/stable/modules/preprocessing.html\n",
      "Please also refer to the documentation for alternative solver options:\n",
      "    https://scikit-learn.org/stable/modules/linear_model.html#logistic-regression\n",
      "  n_iter_i = _check_optimize_result(\n"
     ]
    },
    {
     "data": {
      "text/plain": [
       "LogisticRegression()"
      ]
     },
     "execution_count": 22,
     "metadata": {},
     "output_type": "execute_result"
    }
   ],
   "source": [
    "model.fit(x_train,y_train)"
   ]
  },
  {
   "cell_type": "code",
   "execution_count": 23,
   "id": "c4384e4c",
   "metadata": {},
   "outputs": [
    {
     "data": {
      "text/plain": [
       "0.95"
      ]
     },
     "execution_count": 23,
     "metadata": {},
     "output_type": "execute_result"
    }
   ],
   "source": [
    "model.score(x_test,y_test)"
   ]
  },
  {
   "cell_type": "code",
   "execution_count": 25,
   "id": "fec1b6fb",
   "metadata": {},
   "outputs": [
    {
     "data": {
      "text/plain": [
       "<matplotlib.image.AxesImage at 0x1e1a84abd90>"
      ]
     },
     "execution_count": 25,
     "metadata": {},
     "output_type": "execute_result"
    },
    {
     "data": {
      "image/png": "[encoded data removed]",
      "text/plain": [
       "<Figure size 288x288 with 1 Axes>"
      ]
     },
     "metadata": {
      "needs_background": "light"
     },
     "output_type": "display_data"
    }
   ],
   "source": [
    "plt.matshow(digits.images[89])"
   ]
  },
  {
   "cell_type": "code",
   "execution_count": 26,
   "id": "359b667a",
   "metadata": {},
   "outputs": [
    {
     "data": {
      "text/plain": [
       "3"
      ]
     },
     "execution_count": 26,
     "metadata": {},
     "output_type": "execute_result"
    }
   ],
   "source": [
    "digits.target[89]"
   ]
  },
  {
   "cell_type": "code",
   "execution_count": 33,
   "id": "b22af13a",
   "metadata": {},
   "outputs": [
    {
     "data": {
      "text/plain": [
       "array([3])"
      ]
     },
     "execution_count": 33,
     "metadata": {},
     "output_type": "execute_result"
    }
   ],
   "source": [
    "model.predict([digits.data[89]])"
   ]
  },
  {
   "cell_type": "code",
   "execution_count": 35,
   "id": "d4e5db97",
   "metadata": {},
   "outputs": [],
   "source": [
    "## confusion matrix to check where model is not working well\n",
    "y_predicted= model.predict(x_test)\n",
    "from sklearn.metrics import confusion_matrix\n",
    "cm=confusion_matrix(y_test,y_predicted)"
   ]
  },
  {
   "cell_type": "code",
   "execution_count": 36,
   "id": "6dba5247",
   "metadata": {},
   "outputs": [
    {
     "data": {
      "text/plain": [
       "array([[38,  0,  0,  0,  0,  1,  0,  0,  0,  0],\n",
       "       [ 0, 43,  0,  0,  0,  0,  0,  0,  1,  1],\n",
       "       [ 0,  0, 36,  0,  0,  0,  0,  0,  0,  0],\n",
       "       [ 0,  0,  0, 34,  0,  0,  0,  0,  0,  0],\n",
       "       [ 0,  0,  0,  0, 23,  0,  0,  0,  0,  0],\n",
       "       [ 0,  0,  0,  2,  0, 32,  0,  0,  1,  0],\n",
       "       [ 0,  0,  0,  0,  1,  2, 36,  0,  0,  0],\n",
       "       [ 0,  0,  0,  0,  0,  0,  0, 29,  0,  1],\n",
       "       [ 0,  3,  1,  0,  0,  1,  0,  0, 33,  1],\n",
       "       [ 0,  0,  0,  0,  0,  1,  0,  1,  0, 38]], dtype=int64)"
      ]
     },
     "execution_count": 36,
     "metadata": {},
     "output_type": "execute_result"
    }
   ],
   "source": [
    "cm"
   ]
  },
  {
   "cell_type": "code",
   "execution_count": 38,
   "id": "471e8888",
   "metadata": {},
   "outputs": [
    {
     "data": {
      "text/plain": [
       "Text(33.0, 0.5, 'Truth')"
      ]
     },
     "execution_count": 38,
     "metadata": {},
     "output_type": "execute_result"
    },
    {
     "data": {
      "image/png": "[encoded data removed]",
      "text/plain": [
       "<Figure size 432x288 with 2 Axes>"
      ]
     },
     "metadata": {
      "needs_background": "light"
     },
     "output_type": "display_data"
    }
   ],
   "source": [
    "import seaborn as sns\n",
    "\n",
    "sns.heatmap(cm,annot=True)\n",
    "plt.xlabel('predicted')\n",
    "plt.ylabel('Truth')"
   ]
  },
  {
   "cell_type": "code",
   "execution_count": null,
   "id": "73e30e95",
   "metadata": {},
   "outputs": [],
   "source": []
  }
 ],
 "metadata": {
  "kernelspec": {
   "display_name": "Python 3 (ipykernel)",
   "language": "python",
   "name": "python3"
  },
  "language_info": {
   "codemirror_mode": {
    "name": "ipython",
    "version": 3
   },
   "file_extension": ".py",
   "mimetype": "text/x-python",
   "name": "python",
   "nbconvert_exporter": "python",
   "pygments_lexer": "ipython3",
   "version": "3.9.7"
  }
 },
 "nbformat": 4,
 "nbformat_minor": 5
}
